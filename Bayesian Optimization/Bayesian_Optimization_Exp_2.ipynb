{
  "nbformat": 4,
  "nbformat_minor": 0,
  "metadata": {
    "colab": {
      "name": "BayesOpt vs RS for NN.ipynb",
      "provenance": [],
      "collapsed_sections": []
    },
    "kernelspec": {
      "name": "python3",
      "display_name": "Python 3"
    },
    "accelerator": "GPU"
  },
  "cells": [
    {
      "cell_type": "markdown",
      "metadata": {
        "id": "cE5HmK93f4YZ",
        "colab_type": "text"
      },
      "source": [
        "# Comparison of Bayesian Optimization to Random Search for a NN regressor\n"
      ]
    },
    {
      "cell_type": "code",
      "metadata": {
        "id": "18bubhhccA_5",
        "colab_type": "code",
        "colab": {}
      },
      "source": [
        "#!pip install ipython-autotime\n",
        "#to time the cell runs\n",
        "%load_ext autotime"
      ],
      "execution_count": 0,
      "outputs": []
    },
    {
      "cell_type": "markdown",
      "metadata": {
        "id": "srLS2YmhgFWE",
        "colab_type": "text"
      },
      "source": [
        "This experiment uses an MLP regressor with variable hyperparameters, and selects these hyperparameters using these two methods. The metric of performance is negative RMSE, and the goal is to compare the methods rather than obtain a neural network that is very performant.\n",
        "\n",
        "For the Bayesian optimization algorithm, the GP regressor (surrogate function) is parameterized according to the constant mean function and Matern kernel with varying *$\\nu$* scale parameter. The values of this *$\\nu$* are reported in the appendix."
      ]
    },
    {
      "cell_type": "code",
      "metadata": {
        "id": "M7KuxezKS21A",
        "colab_type": "code",
        "colab": {}
      },
      "source": [
        "!pip install GPy"
      ],
      "execution_count": 0,
      "outputs": []
    },
    {
      "cell_type": "code",
      "metadata": {
        "id": "-YGvFtV_TLX-",
        "colab_type": "code",
        "colab": {}
      },
      "source": [
        "!pip install GPyOpt"
      ],
      "execution_count": 0,
      "outputs": []
    },
    {
      "cell_type": "code",
      "metadata": {
        "id": "7GSVgpko44yT",
        "colab_type": "code",
        "colab": {}
      },
      "source": [
        "!pip install python-intervals"
      ],
      "execution_count": 0,
      "outputs": []
    },
    {
      "cell_type": "markdown",
      "metadata": {
        "id": "OGfoRkEMRxpM",
        "colab_type": "text"
      },
      "source": [
        "Import the necessary modules and prepare the *diabetes dataset*."
      ]
    },
    {
      "cell_type": "code",
      "metadata": {
        "id": "RYQVmEBySCCW",
        "colab_type": "code",
        "colab": {}
      },
      "source": [
        "from sklearn import datasets\n",
        "from sklearn.model_selection import RandomizedSearchCV, GridSearchCV, cross_val_score #run grid search on hyperparameters as well\n",
        "import GPy\n",
        "import GPyOpt\n",
        "import numpy as np\n",
        "import matplotlib.pyplot as plt\n",
        "from GPyOpt.methods import BayesianOptimization\n",
        "from scipy.stats import uniform\n",
        "from xgboost import XGBRegressor\n",
        "from sklearn.preprocessing import StandardScaler\n",
        "from sklearn.neural_network import MLPRegressor\n",
        "\n",
        "# Load the diabetes dataset (for regression)\n",
        "X, Y = datasets.load_diabetes(return_X_y=True)\n",
        "#print(Y) #integer targets\n",
        "scaler = StandardScaler()\n",
        "#data is scaled before being fed into the neural network. Not the targets though\n",
        "X_scaled = scaler.fit_transform(X)\n",
        "\n",
        "# Instantiate a MLP with default setup. This will be modified later\n",
        "mlp = MLPRegressor()\n"
      ],
      "execution_count": 0,
      "outputs": []
    },
    {
      "cell_type": "markdown",
      "metadata": {
        "id": "Gpb9ZrAo3VbG",
        "colab_type": "text"
      },
      "source": [
        "First, random search on a pre-defined 'input space' of the hyperparameters.\n",
        "\n",
        "Note: Since the optimizer is Adam, the learning rate is constant and thus does not incorporate a schedule. ReLu activations are used by default in the hidden layers, and identity function in the output layer (where the regression happens)."
      ]
    },
    {
      "cell_type": "code",
      "metadata": {
        "id": "gyOsZqlGKrTS",
        "colab_type": "code",
        "colab": {}
      },
      "source": [
        "#alpha is the L2 regularization parameter, default for which 0.0001. This is generally left small, so a tight interval is considered.\n",
        "#learning rate of adam gradient-based optimizer. This has a default value of 0.001 and is left constant with Adam optimizer.\n",
        "\n",
        "\n",
        "alpha_schedule = np.array([0.0001, 0.0005, 0.001]) #three values, all quite small as overfitting is not exactly a concern\n",
        "learning_rate_schedule = np.array([0.001, 0.005, 0.1]) #three values, reasonable magnitudes\n",
        "\n",
        "#dimension of input is 10. The network architecture consists of 2-tuples, where (20,10) \n",
        "#means 20 neurons in the first hidden layer and 10 before the final (identity) activation. 2 LAYERS\n",
        "\n",
        "from itertools import product \n",
        "max_layer_size = 50\n",
        "N_layers = 2\n",
        "arch = [ele for ele in product(range(1, max_layer_size + 1), repeat = N_layers)] \n",
        "\n",
        "#keep architectures where layer1 >= layer2\n",
        "architectures = [(a, b) for a, b in arch if (a >= b)] \n",
        "\n"
      ],
      "execution_count": 0,
      "outputs": []
    },
    {
      "cell_type": "markdown",
      "metadata": {
        "id": "-FEkrtZ5KtqF",
        "colab_type": "text"
      },
      "source": [
        "# Random search..."
      ]
    },
    {
      "cell_type": "code",
      "metadata": {
        "id": "1TjY-CJ2SFfK",
        "colab_type": "code",
        "outputId": "50d45f94-dedd-4d9b-e27c-f50b2a1f1dd9",
        "colab": {
          "base_uri": "https://localhost:8080/",
          "height": 35
        }
      },
      "source": [
        "import warnings\n",
        "import time\n",
        "from random import seed\n",
        "from random import randint\n",
        "from itertools import product \n",
        "seed(1)\n",
        "\n",
        "warnings.filterwarnings(\"ignore\") \n",
        "# Hyperparameters to tune and their ranges. For now a single layer NN... to accomodate the Bayesian optimization \n",
        "mlp_param_dist = {\"alpha\": uniform(0, 0.001),\n",
        "                  \"hidden_layer_sizes\": range(10,50),\n",
        "                  \"batch_size\": range(32,64),\n",
        "                  \"learning_rate_init\": uniform(0, 0.01)} \n",
        "                  \n",
        "#25 iterations\n",
        "rs = RandomizedSearchCV(mlp, param_distributions=mlp_param_dist, \n",
        "                        scoring='neg_mean_squared_error', n_iter=30)\n",
        "# Run random search for 25 iterations\n",
        "rs.fit(X_scaled, Y);\n",
        "\n"
      ],
      "execution_count": 0,
      "outputs": [
        {
          "output_type": "stream",
          "text": [
            "time: 1min\n"
          ],
          "name": "stdout"
        }
      ]
    },
    {
      "cell_type": "markdown",
      "metadata": {
        "id": "QCiuKpwXKeEm",
        "colab_type": "text"
      },
      "source": [
        "Performance of random search, along with reported hyperparameters."
      ]
    },
    {
      "cell_type": "code",
      "metadata": {
        "id": "wcHzmO6A9oGM",
        "colab_type": "code",
        "outputId": "8b36fa4f-f6e1-4e15-fe6e-7c88dd325eec",
        "colab": {
          "base_uri": "https://localhost:8080/",
          "height": 72
        }
      },
      "source": [
        "print(rs.best_params_)\n",
        "y_rs = np.maximum.accumulate(rs.cv_results_['mean_test_score']) \n",
        "print(f'Random search neg. MSE = {y_rs[-1]:.2f}')"
      ],
      "execution_count": 0,
      "outputs": [
        {
          "output_type": "stream",
          "text": [
            "{'alpha': 0.0008889915893842183, 'batch_size': 63, 'hidden_layer_sizes': 30, 'learning_rate_init': 0.008268865599049404}\n",
            "Random search neg. MSE = -2963.25\n",
            "time: 2.55 ms\n"
          ],
          "name": "stdout"
        }
      ]
    },
    {
      "cell_type": "markdown",
      "metadata": {
        "id": "0tNcuNR0KixC",
        "colab_type": "text"
      },
      "source": [
        "# ...Bayesian optimization"
      ]
    },
    {
      "cell_type": "code",
      "metadata": {
        "id": "sQo7KxnYSr2h",
        "colab_type": "code",
        "outputId": "ea4264c4-4b12-46b4-87d8-fcca6a90ef38",
        "colab": {
          "base_uri": "https://localhost:8080/",
          "height": 72
        }
      },
      "source": [
        "mlp_bds = [{'name': 'alpha', 'type': 'continuous', 'domain': (0,0.01)},\n",
        "           {'name': 'hidden_layer_sizes', 'type': 'discrete', 'domain': tuple(range(10, 50))},\n",
        "           {'name': 'batch_size', 'type': 'discrete', 'domain': tuple(range(32,64))},\n",
        "           {'name': 'learning_rate_init', 'type': 'continuous', 'domain': (0,0.01)}]\n",
        "\n",
        "#adam optimizer used by default, left as is.\n",
        "\n",
        "# Optimization objective \n",
        "def cv_score(parameters): #how many cv folds? default is 5\n",
        "    parameters = parameters[0]\n",
        "    score = cross_val_score(\n",
        "                MLPRegressor(alpha = parameters[0], hidden_layer_sizes = int(parameters[1]), batch_size = int(parameters[2]), learning_rate_init = parameters[3]), \n",
        "                              X_scaled, Y, scoring='neg_mean_squared_error').mean()\n",
        "    score = np.array(score)\n",
        "    return score\n",
        "kernel = GPy.kern.Matern52(input_dim=1, variance=1.0, lengthscale=1.5) #vary the nu parameter and comment. How does nu behave in terms of smoothness?\n",
        "optimizer = BayesianOptimization(f=cv_score, \n",
        "                                 domain=mlp_bds,\n",
        "                                 model_type='GP',\n",
        "                                 kernel=kernel,\n",
        "                                 acquisition_type ='EI', #'MPI', 'LCB'/'UCB' in the case of maximization\n",
        "                                 acquisition_jitter = 0.01, #xi\n",
        "                                 exact_feval=True, \n",
        "                                 maximize=True)\n",
        "\n",
        "#25 iterations\n",
        "optimizer.run_optimization(max_iter=25)\n",
        "%time"
      ],
      "execution_count": 0,
      "outputs": [
        {
          "output_type": "stream",
          "text": [
            "CPU times: user 4 µs, sys: 0 ns, total: 4 µs\n",
            "Wall time: 8.82 µs\n",
            "time: 1min 7s\n"
          ],
          "name": "stdout"
        }
      ]
    },
    {
      "cell_type": "markdown",
      "metadata": {
        "id": "SSrE1RASSBeo",
        "colab_type": "text"
      },
      "source": [
        "Reported hyperparameters according to Bayesian Optimization"
      ]
    },
    {
      "cell_type": "code",
      "metadata": {
        "id": "kxbcQxe7WGGS",
        "colab_type": "code",
        "outputId": "186c17bd-0e57-4b49-9f3b-d62309c14953",
        "colab": {
          "base_uri": "https://localhost:8080/",
          "height": 54
        }
      },
      "source": [
        "optimal_alpha = np.round(optimizer.x_opt[0],4)\n",
        "optimal_hidden_layer_size = int(optimizer.x_opt[1])\n",
        "optimal_batch_size = int(optimizer.x_opt[2])\n",
        "optimal_lr = np.round(optimizer.x_opt[3],4)\n",
        "print(optimal_alpha, optimal_hidden_layer_size, optimal_batch_size, optimal_lr)"
      ],
      "execution_count": 0,
      "outputs": [
        {
          "output_type": "stream",
          "text": [
            "0.0083 19 54 0.0088\n",
            "time: 5.69 ms\n"
          ],
          "name": "stdout"
        }
      ]
    },
    {
      "cell_type": "markdown",
      "metadata": {
        "id": "6Al4f9CqTKpA",
        "colab_type": "text"
      },
      "source": [
        "# Comparison:"
      ]
    },
    {
      "cell_type": "code",
      "metadata": {
        "id": "o2u0nxnlTe9m",
        "colab_type": "code",
        "outputId": "30419233-442a-4dcc-b174-74a7d7ae5067",
        "colab": {
          "base_uri": "https://localhost:8080/",
          "height": 683
        }
      },
      "source": [
        "y_rs = np.maximum.accumulate(rs.cv_results_['mean_test_score']) #are there other performance measures?\n",
        "y_bo = np.maximum.accumulate(-optimizer.Y).ravel()\n",
        "#y_gs = np.maximum.accumulate(rs.cv_results_['mean_test_score'])\n",
        "\n",
        "print(f'Random search neg. MSE = {y_rs[-1]:.2f}')\n",
        "#print(f'Grid search neg. MSE = {y_gs[-1]:.2f}')\n",
        "print(f'Bayesian optimization neg. MSE = {y_bo[-1]:.2f}')\n",
        "\n",
        "\n",
        "plt.plot(y_rs, 'ro-', label='Random search')\n",
        "#plt.plot(y_gs, label='Grid search')\n",
        "plt.plot(y_bo, 'bo-', label='Bayesian optimization')\n",
        "plt.xlabel('Iteration')\n",
        "plt.ylabel('Neg. MSE')\n",
        "plt.ylim(-3050, -2850)\n",
        "plt.title('Value of the best sampled CV score');\n",
        "plt.legend();\n",
        "optimizer.plot_convergence()\n",
        "\n",
        "#is there a way to incorporate Bayesian uncertainty into this plot?\n",
        "#optimizer.plot_regret()"
      ],
      "execution_count": 0,
      "outputs": [
        {
          "output_type": "stream",
          "text": [
            "Random search neg. MSE = -2963.25\n",
            "Bayesian optimization neg. MSE = -2939.24\n"
          ],
          "name": "stdout"
        },
        {
          "output_type": "display_data",
          "data": {
            "image/png": "[encoded data removed]",
            "text/plain": [
              "<Figure size 432x288 with 1 Axes>"
            ]
          },
          "metadata": {
            "tags": []
          }
        },
        {
          "output_type": "display_data",
          "data": {
            "image/png": "[encoded data removed]",
            "text/plain": [
              "<Figure size 720x360 with 2 Axes>"
            ]
          },
          "metadata": {
            "tags": []
          }
        },
        {
          "output_type": "stream",
          "text": [
            "time: 473 ms\n"
          ],
          "name": "stdout"
        }
      ]
    },
    {
      "cell_type": "markdown",
      "metadata": {
        "id": "FixzDXuxSNPf",
        "colab_type": "text"
      },
      "source": [
        "Note that in this problem, we do not have consistent results. The problem is that the network is not trained well enough on the data, and so its poor performance may be a confounding factor.\n",
        "\n",
        "The idea I've had is thus to train a network beforehand, so as to make it perform well on the data, then 'budge' its hyperparameters (by considering domain spaces that are tight and include the pre-selected hyperparameters) to see if we can improve its performance. Both random search and Bayesian optimization can be used to that end, to see which will perform better in improving an already-good model."
      ]
    }
  ]
}