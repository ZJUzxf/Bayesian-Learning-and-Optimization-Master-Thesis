{
  "nbformat": 4,
  "nbformat_minor": 0,
  "metadata": {
    "colab": {
      "name": "BNN with uncertainty",
      "provenance": [],
      "collapsed_sections": []
    },
    "kernelspec": {
      "name": "python3",
      "display_name": "Python 3"
    },
    "accelerator": "GPU"
  },
  "cells": [
    {
      "cell_type": "markdown",
      "metadata": {
        "id": "Oees2EsSd64F",
        "colab_type": "text"
      },
      "source": [
        "# A Bayesian Neural Network (BNN) with uncertainty\n",
        "\n",
        "The goal is handwritten digit recognition (MNIST), with a twist. The *Bayesian* NN is able to refuse classifying images if they are ambiguous- and may entirely refuse to classify images that are unlike anything it has seen before (consider for example how a traditional NN that does not leverage uncertainty would output overly-confident labels when given, say images of cars despite being trained on airplanes).\n",
        "\n",
        "Sources: \n",
        "\n",
        "https://github.com/paraschopra/bayesian-neural-network-mnist.git\n",
        "\n",
        "https://github.com/kumar-shridhar/PyTorch-BayesianCNN.git"
      ]
    },
    {
      "cell_type": "code",
      "metadata": {
        "id": "evHGqYpMdz_d",
        "colab_type": "code",
        "colab": {}
      },
      "source": [
        "import torch\n",
        "import torch.nn as nn\n",
        "import torch.nn.functional as F\n",
        "import torch.optim as optim\n",
        "import torchvision\n",
        "from torchvision import datasets, transforms\n",
        "from torch.utils.data import DataLoader"
      ],
      "execution_count": 0,
      "outputs": []
    },
    {
      "cell_type": "markdown",
      "metadata": {
        "id": "ZuJ-IMVVfBXE",
        "colab_type": "text"
      },
      "source": [
        "May need to install this module to import the 'imread' module."
      ]
    },
    {
      "cell_type": "code",
      "metadata": {
        "id": "40Bs9oYoep-P",
        "colab_type": "code",
        "colab": {
          "base_uri": "https://localhost:8080/",
          "height": 306
        },
        "outputId": "b1743654-eab5-46b4-d1b8-074e5e4d55ae"
      },
      "source": [
        "!pip install scipy==1.1.0"
      ],
      "execution_count": 4,
      "outputs": [
        {
          "output_type": "stream",
          "text": [
            "Collecting scipy==1.1.0\n",
            "\u001b[?25l  Downloading https://files.pythonhosted.org/packages/a8/0b/f163da98d3a01b3e0ef1cab8dd2123c34aee2bafbb1c5bffa354cc8a1730/scipy-1.1.0-cp36-cp36m-manylinux1_x86_64.whl (31.2MB)\n",
            "\u001b[K     |████████████████████████████████| 31.2MB 98kB/s \n",
            "\u001b[?25hRequirement already satisfied: numpy>=1.8.2 in /usr/local/lib/python3.6/dist-packages (from scipy==1.1.0) (1.17.5)\n",
            "\u001b[31mERROR: plotnine 0.6.0 has requirement scipy>=1.2.0, but you'll have scipy 1.1.0 which is incompatible.\u001b[0m\n",
            "\u001b[31mERROR: albumentations 0.1.12 has requirement imgaug<0.2.7,>=0.2.5, but you'll have imgaug 0.2.9 which is incompatible.\u001b[0m\n",
            "Installing collected packages: scipy\n",
            "  Found existing installation: scipy 1.4.1\n",
            "    Uninstalling scipy-1.4.1:\n",
            "      Successfully uninstalled scipy-1.4.1\n",
            "Successfully installed scipy-1.1.0\n"
          ],
          "name": "stdout"
        },
        {
          "output_type": "display_data",
          "data": {
            "application/vnd.colab-display-data+json": {
              "pip_warning": {
                "packages": [
                  "scipy"
                ]
              }
            }
          },
          "metadata": {
            "tags": []
          }
        }
      ]
    },
    {
      "cell_type": "code",
      "metadata": {
        "id": "cmh6-r7Wegbu",
        "colab_type": "code",
        "colab": {}
      },
      "source": [
        "import numpy as np\n",
        "import matplotlib.pyplot as plt\n",
        "from matplotlib import colors\n",
        "from IPython import display\n",
        "import os\n",
        "from PIL import Image\n",
        "from torch.utils.data.dataset import Dataset\n",
        "from scipy.misc import imread"
      ],
      "execution_count": 0,
      "outputs": []
    },
    {
      "cell_type": "code",
      "metadata": {
        "id": "p9ptv1BbfGGM",
        "colab_type": "code",
        "colab": {}
      },
      "source": [
        "%matplotlib inline \n",
        "#matplotlib graphs will be included in notebook, next to the code."
      ],
      "execution_count": 0,
      "outputs": []
    },
    {
      "cell_type": "markdown",
      "metadata": {
        "id": "wekh90CYfdFk",
        "colab_type": "text"
      },
      "source": [
        "Load in the MNIST dataset, splitting up into train and test data:\n"
      ]
    },
    {
      "cell_type": "code",
      "metadata": {
        "id": "vmRFRfcDfhSv",
        "colab_type": "code",
        "colab": {}
      },
      "source": [
        "train_loader = torch.utils.data.DataLoader(\n",
        "        datasets.MNIST('mnist-data/', train=True, download=True,\n",
        "                       transform=transforms.Compose([transforms.ToTensor(),])),\n",
        "        batch_size=128, shuffle=True)\n",
        "\n",
        "test_loader = torch.utils.data.DataLoader(\n",
        "        datasets.MNIST('mnist-data/', train=False, transform=transforms.Compose([transforms.ToTensor(),])\n",
        "                       ),\n",
        "        batch_size=128, shuffle=True)"
      ],
      "execution_count": 0,
      "outputs": []
    },
    {
      "cell_type": "markdown",
      "metadata": {
        "id": "Org_va7OfR_-",
        "colab_type": "text"
      },
      "source": [
        "Now define the BNN model (using the PyTorch approach):\n",
        "\n"
      ]
    },
    {
      "cell_type": "code",
      "metadata": {
        "id": "TM6Tnk-ZfH5W",
        "colab_type": "code",
        "colab": {}
      },
      "source": [
        "class NN(nn.Module):\n",
        "    def __init__(self, input_size, hidden_size, output_size):\n",
        "        super(NN, self).__init__()\n",
        "        self.fc1 = nn.Linear(input_size, hidden_size)\n",
        "        self.out = nn.Linear(hidden_size, output_size)\n",
        "        \n",
        "    def forward(self, x):\n",
        "        output = self.fc1(x)\n",
        "        output = F.relu(output)\n",
        "        output = self.out(output)\n",
        "        return output"
      ],
      "execution_count": 0,
      "outputs": []
    },
    {
      "cell_type": "markdown",
      "metadata": {
        "id": "pZSgan0LfvLQ",
        "colab_type": "text"
      },
      "source": [
        "Flattened 28*28 image:"
      ]
    },
    {
      "cell_type": "code",
      "metadata": {
        "id": "ntvfIw6TfQT8",
        "colab_type": "code",
        "colab": {}
      },
      "source": [
        "net = NN(28*28, 1024, 10)"
      ],
      "execution_count": 0,
      "outputs": []
    },
    {
      "cell_type": "code",
      "metadata": {
        "id": "mxJ0Umumf-zD",
        "colab_type": "code",
        "colab": {}
      },
      "source": [
        "!pip3 install pyro-ppl"
      ],
      "execution_count": 0,
      "outputs": []
    },
    {
      "cell_type": "code",
      "metadata": {
        "id": "5akcmG35fpy9",
        "colab_type": "code",
        "colab": {}
      },
      "source": [
        "import pyro\n",
        "from pyro.distributions import Normal, Categorical\n",
        "from pyro.infer import SVI, Trace_ELBO\n",
        "from pyro.optim import Adam"
      ],
      "execution_count": 0,
      "outputs": []
    },
    {
      "cell_type": "markdown",
      "metadata": {
        "id": "Cyehxem9gzHK",
        "colab_type": "text"
      },
      "source": [
        "softmax classifier, with log-probabilites... these will be exponentiated later to retrieve the predicted probabilities."
      ]
    },
    {
      "cell_type": "code",
      "metadata": {
        "id": "NXCRf4o_gdum",
        "colab_type": "code",
        "colab": {}
      },
      "source": [
        "log_softmax = nn.LogSoftmax(dim=1)"
      ],
      "execution_count": 0,
      "outputs": []
    },
    {
      "cell_type": "code",
      "metadata": {
        "id": "id2O9uGDgekx",
        "colab_type": "code",
        "colab": {}
      },
      "source": [
        "def model(x_data, y_data):\n",
        "    \n",
        "    fc1w_prior = Normal(loc=torch.zeros_like(net.fc1.weight), scale=torch.ones_like(net.fc1.weight))\n",
        "    fc1b_prior = Normal(loc=torch.zeros_like(net.fc1.bias), scale=torch.ones_like(net.fc1.bias))\n",
        "    \n",
        "    outw_prior = Normal(loc=torch.zeros_like(net.out.weight), scale=torch.ones_like(net.out.weight))\n",
        "    outb_prior = Normal(loc=torch.zeros_like(net.out.bias), scale=torch.ones_like(net.out.bias))\n",
        "    \n",
        "    priors = {'fc1.weight': fc1w_prior, 'fc1.bias': fc1b_prior,  'out.weight': outw_prior, 'out.bias': outb_prior}\n",
        "    # lift module parameters to random variables sampled from the priors\n",
        "    lifted_module = pyro.random_module(\"module\", net, priors)\n",
        "    # sample a regressor (which also samples w and b)\n",
        "    lifted_reg_model = lifted_module()\n",
        "    \n",
        "    lhat = log_softmax(lifted_reg_model(x_data))\n",
        "    \n",
        "    pyro.sample(\"obs\", Categorical(logits=lhat), obs=y_data)"
      ],
      "execution_count": 0,
      "outputs": []
    },
    {
      "cell_type": "markdown",
      "metadata": {
        "id": "zltHFYPBgkMp",
        "colab_type": "text"
      },
      "source": [
        "The model() function defines how the output data is generated.\n",
        "In our classifier, the 10 output values corresponding to each digit are generated when we run the neural network (initialised in the net variable above)with a flattened 28*28 pixel image. \n",
        "\n",
        "Within model(), the function pyro.random_module() converts parameters of our neural network (weights and biases) into random variables that have the initial (prior) probability distribution given by fc1w_prior, fc1b_prior, outw_prior and outb_prior (in our case, as you can see, initalized with a normal distribution).\n",
        "\n",
        "The next code block defines the variational distribution (which acts as a surrogate) for approximating the true posterior.\n",
        "\n",
        "This guide() function describes the Z parameters (like mean and variance of weights and biases) that can be changed to see if resultant distribution closely approximates the posterior that comes out of model()."
      ]
    },
    {
      "cell_type": "code",
      "metadata": {
        "id": "WYqB7XLohF_d",
        "colab_type": "code",
        "colab": {}
      },
      "source": [
        "softplus = torch.nn.Softplus()\n",
        "\n",
        "def guide(x_data, y_data):\n",
        "    \n",
        "    # First layer weight distribution priors\n",
        "    fc1w_mu = torch.randn_like(net.fc1.weight)\n",
        "    fc1w_sigma = torch.randn_like(net.fc1.weight)\n",
        "    fc1w_mu_param = pyro.param(\"fc1w_mu\", fc1w_mu)\n",
        "    fc1w_sigma_param = softplus(pyro.param(\"fc1w_sigma\", fc1w_sigma))\n",
        "    fc1w_prior = Normal(loc=fc1w_mu_param, scale=fc1w_sigma_param)\n",
        "    # First layer bias distribution priors\n",
        "    fc1b_mu = torch.randn_like(net.fc1.bias)\n",
        "    fc1b_sigma = torch.randn_like(net.fc1.bias)\n",
        "    fc1b_mu_param = pyro.param(\"fc1b_mu\", fc1b_mu)\n",
        "    fc1b_sigma_param = softplus(pyro.param(\"fc1b_sigma\", fc1b_sigma))\n",
        "    fc1b_prior = Normal(loc=fc1b_mu_param, scale=fc1b_sigma_param)\n",
        "    # Output layer weight distribution priors\n",
        "    outw_mu = torch.randn_like(net.out.weight)\n",
        "    outw_sigma = torch.randn_like(net.out.weight)\n",
        "    outw_mu_param = pyro.param(\"outw_mu\", outw_mu)\n",
        "    outw_sigma_param = softplus(pyro.param(\"outw_sigma\", outw_sigma))\n",
        "    outw_prior = Normal(loc=outw_mu_param, scale=outw_sigma_param).independent(1)\n",
        "    # Output layer bias distribution priors\n",
        "    outb_mu = torch.randn_like(net.out.bias)\n",
        "    outb_sigma = torch.randn_like(net.out.bias)\n",
        "    outb_mu_param = pyro.param(\"outb_mu\", outb_mu)\n",
        "    outb_sigma_param = softplus(pyro.param(\"outb_sigma\", outb_sigma))\n",
        "    outb_prior = Normal(loc=outb_mu_param, scale=outb_sigma_param)\n",
        "    priors = {'fc1.weight': fc1w_prior, 'fc1.bias': fc1b_prior, 'out.weight': outw_prior, 'out.bias': outb_prior}\n",
        "    \n",
        "    lifted_module = pyro.random_module(\"module\", net, priors)\n",
        "    \n",
        "    return lifted_module()"
      ],
      "execution_count": 0,
      "outputs": []
    },
    {
      "cell_type": "markdown",
      "metadata": {
        "id": "Ia4RFjOHhxxG",
        "colab_type": "text"
      },
      "source": [
        "The optimizer is Adam, and the loss function is the ELBO- maximizing it is equivalent to minimizing the KL divergence between the 'guide' variational posterior, and the true posterior distributions."
      ]
    },
    {
      "cell_type": "code",
      "metadata": {
        "id": "VD3smF-ghvYh",
        "colab_type": "code",
        "colab": {}
      },
      "source": [
        "optim = Adam({\"lr\": 0.01})\n",
        "svi = SVI(model, guide, optim, loss=Trace_ELBO())"
      ],
      "execution_count": 0,
      "outputs": []
    },
    {
      "cell_type": "markdown",
      "metadata": {
        "id": "O6l1WQDIoen7",
        "colab_type": "text"
      },
      "source": [
        "Optimization loop:"
      ]
    },
    {
      "cell_type": "code",
      "metadata": {
        "id": "NRvyuB1Ah9VD",
        "colab_type": "code",
        "outputId": "de830f1d-e3fe-4f45-c672-ccf296b88513",
        "colab": {
          "base_uri": "https://localhost:8080/",
          "height": 165
        }
      },
      "source": [
        "\n",
        "num_iterations = 5\n",
        "loss = 0\n",
        "\n",
        "for j in range(num_iterations):\n",
        "    loss = 0\n",
        "    for batch_id, data in enumerate(train_loader):\n",
        "        # calculate the loss and take a gradient step\n",
        "        loss += svi.step(data[0].view(-1,28*28), data[1])\n",
        "    normalizer_train = len(train_loader.dataset)\n",
        "    total_epoch_loss_train = loss / normalizer_train\n",
        "    \n",
        "    print(\"Epoch \", j, \" Loss \", total_epoch_loss_train)"
      ],
      "execution_count": 12,
      "outputs": [
        {
          "output_type": "stream",
          "text": [
            "/usr/local/lib/python3.6/dist-packages/pyro/primitives.py:371: FutureWarning: The `random_module` primitive is deprecated, and will be removed in a future release. Use `pyro.nn.Module` to create Bayesian modules from `torch.nn.Module` instances.\n",
            "  \"modules from `torch.nn.Module` instances.\", FutureWarning)\n"
          ],
          "name": "stderr"
        },
        {
          "output_type": "stream",
          "text": [
            "Epoch  0  Loss  2099.884098832091\n",
            "Epoch  1  Loss  376.6117188729922\n",
            "Epoch  2  Loss  159.6446375751972\n",
            "Epoch  3  Loss  111.69747827866873\n",
            "Epoch  4  Loss  96.00174148570696\n"
          ],
          "name": "stdout"
        }
      ]
    },
    {
      "cell_type": "markdown",
      "metadata": {
        "id": "ma4Yg9SWolg0",
        "colab_type": "text"
      },
      "source": [
        "Once the loss seems to be stabilizing / converging to a value, we can stop the optimization and check the accuracy of the BNN:"
      ]
    },
    {
      "cell_type": "markdown",
      "metadata": {
        "id": "-01HyHmL1rrn",
        "colab_type": "text"
      },
      "source": [
        "# Uncertainty measures\n",
        "\n",
        "reference: *Shridhar et al*"
      ]
    },
    {
      "cell_type": "code",
      "metadata": {
        "id": "rM822fi_3ge_",
        "colab_type": "code",
        "colab": {
          "base_uri": "https://localhost:8080/",
          "height": 65
        },
        "outputId": "645b8dff-2d2a-49b4-99cf-bde5e68b91c3"
      },
      "source": [
        "import torch.nn.functional as F\n",
        "import tensorflow as tf"
      ],
      "execution_count": 32,
      "outputs": [
        {
          "output_type": "display_data",
          "data": {
            "text/html": [
              "<p style=\"color: red;\">\n",
              "The default version of TensorFlow in Colab will soon switch to TensorFlow 2.x.<br>\n",
              "We recommend you <a href=\"https://www.tensorflow.org/guide/migrate\" target=\"_blank\">upgrade</a> now \n",
              "or ensure your notebook will continue to use TensorFlow 1.x via the <code>%tensorflow_version 1.x</code> magic:\n",
              "<a href=\"https://colab.research.google.com/notebooks/tensorflow_version.ipynb\" target=\"_blank\">more info</a>.</p>\n"
            ],
            "text/plain": [
              "<IPython.core.display.HTML object>"
            ]
          },
          "metadata": {
            "tags": []
          }
        }
      ]
    },
    {
      "cell_type": "code",
      "metadata": {
        "id": "TDjiCm3J3Mko",
        "colab_type": "code",
        "colab": {}
      },
      "source": [
        "def normalization_function(x):\n",
        "    return (x) / torch.sum(x, dim=0)"
      ],
      "execution_count": 0,
      "outputs": []
    },
    {
      "cell_type": "code",
      "metadata": {
        "id": "6ph_fTbV1qPp",
        "colab_type": "code",
        "colab": {}
      },
      "source": [
        "def calc_uncertainty_normalized(output):\n",
        "    outputs = []\n",
        "    for t in range(1):\n",
        "        #prediction = F.softplus(output.cpu()) ####\n",
        "        prediction = normalization_function(output)\n",
        "        outputs.append(prediction)\n",
        "        \n",
        "    res = np.mean(prediction.numpy(), axis=0)\n",
        "    p_hat= torch.cat(outputs, 1)\n",
        "    p_hat=p_hat.numpy()\n",
        "    T=1\n",
        "    \n",
        "    aleatoric = np.diag(res) - p_hat.T.dot(p_hat)/p_hat.shape[0]\n",
        "#     aleatoric += aleatoric\n",
        "    tmp = p_hat - res  \n",
        "    epistemic = tmp.T.dot(tmp)/tmp.shape[0]\n",
        "#     epistemic += epistemic \n",
        "\n",
        "    print(np.sum(epistemic, keepdims = True))\n",
        "    print(np.sum(aleatoric, keepdims = True))\n",
        "\n",
        "#     p_hat = np.array(res)\n",
        "#     print (p_hat)\n",
        "#     epistemic = np.mean((p_hat) ** 2, axis=0) - np.mean((p_hat), axis=0) ** 2\n",
        "#     epistemic = np.mean((1-p_hat) ** 2, axis=0) - np.mean((1-p_hat), axis=0) ** 2\n",
        "#    epistemic += epistemic \n",
        "#     #print (epistemic)\n",
        "#     aleatoric = np.mean((p_hat) * (1-(p_hat)), axis = 0)\n",
        "#     aleatoric = np.mean((1-p_hat), axis = 0) ** 2\n",
        "#     aleatoric += aleatoric\n",
        "    #print (aleatoric)\n",
        "    return (np.sum(epistemic, keepdims = True)), (np.sum(epistemic, keepdims = True))"
      ],
      "execution_count": 0,
      "outputs": []
    },
    {
      "cell_type": "code",
      "metadata": {
        "id": "cfrIHDwv8OG0",
        "colab_type": "code",
        "colab": {}
      },
      "source": [
        "def calc_uncertainity_softmax(output):\n",
        "    prediction = F.softmax(output, dim = 1)\n",
        "    results = torch.max(prediction, 1 )\n",
        "    p_hat = np.array(results[0].cpu().detach())\n",
        "    epistemic = np.mean(p_hat ** 2, axis=0) - np.mean(p_hat, axis=0) ** 2\n",
        "#     epistemic += epistemic \n",
        "    #print (epistemic)\n",
        "    aleatoric = np.mean(p_hat * (1-p_hat), axis = 0)\n",
        "#     aleatoric += aleatoric\n",
        "    #print (aleatoric)\n",
        "    return epistemic, aleatoric"
      ],
      "execution_count": 0,
      "outputs": []
    },
    {
      "cell_type": "code",
      "metadata": {
        "id": "9sTolmU2ok2A",
        "colab_type": "code",
        "outputId": "776819f2-e11a-49a2-e8de-9e698c533032",
        "colab": {
          "base_uri": "https://localhost:8080/",
          "height": 237
        }
      },
      "source": [
        "#how many times should we sample weights from the estimated posterior during predictions? i.e. sample num_samples neural networks each time\n",
        "#you make a prediction. this is what enables us to give uncertainities on outputs\n",
        "num_runs = 5\n",
        "num_samples = 10\n",
        "\n",
        "accuracy_runs = []\n",
        "epistemic_runs = []\n",
        "aleatoric_runs = []\n",
        "\n",
        "def predict(x):\n",
        "    sampled_models = [guide(None, None) for _ in range(num_samples)]\n",
        "    yhats = [model(x).data for model in sampled_models]\n",
        "    mean = torch.mean(torch.stack(yhats), 0)\n",
        "    #would need an average epistemic and aleatoric uncertainty for each of these models...\n",
        "    # print(yhats)\n",
        "    # print(len(yhats), type(yhats))\n",
        "    epistemic_uncertainties = []\n",
        "    aleatoric_uncertainties = []\n",
        "    for mod in sampled_models:\n",
        "      output = mod(x)\n",
        "      #print(output)\n",
        "      #for each model, use the outputs to calculate uncertainties\n",
        "      epistemic , aleatoric = calc_uncertainity_softmax(output)\n",
        "      epistemic_uncertainties.append(epistemic)\n",
        "      aleatoric_uncertainties.append(aleatoric)\n",
        "    avg_epistemic = np.mean(epistemic_uncertainties)\n",
        "    avg_aleatoric = np.mean(aleatoric_uncertainties)\n",
        "    return np.argmax(mean.numpy(), axis=1), avg_epistemic, avg_aleatoric\n",
        "\n",
        "for i in(range(num_runs)):\n",
        "  print('Run %d:' % (i+1))\n",
        "  correct = 0\n",
        "  total = 0\n",
        "  #batch size is 128\n",
        "  #128*78 = 9984; there are 10,000 test set images so j goes from 0-78 to pass through all MNIST images. Each of the 128-image batches\n",
        "  #contains unique images\n",
        "  for j, data in enumerate(test_loader):\n",
        "      images, labels = data\n",
        "      predicted, epistemic, aleatoric  = predict(images.view(-1,28*28))\n",
        "      total += labels.size(0)\n",
        "      labels = np.array(labels) #must be cast to np.array() so that the comparison can be made between this and 'predicted' when counting correct preditions..\n",
        "      #predicted and labels are both np.arrays of 128 elements representing the predictions and true labels of the 128-image batch\n",
        "      #epistemic , aleatoric = calc_uncertainity_softmax(outputs)\n",
        "      correct += (predicted == labels).sum().item()\n",
        "  accuracy_runs.append(100 * correct / total)\n",
        "  epistemic_runs.append(epistemic)\n",
        "  aleatoric_runs.append(aleatoric)\n",
        "\n",
        "avg_accuracy = np.mean(accuracy_runs)\n",
        "avg_epistemic = np.mean(epistemic_runs)\n",
        "avg_aleatoric = np.mean(aleatoric_runs)\n",
        "\n",
        "print(\"Avg. accuracy: %d\" % (avg_accuracy), \"\\n Correct predictions: %d, out of a total of  %d images in the test set\" % (int(avg_accuracy*100), 10000)) \n",
        "print(\"Epistemic Uncertainty: %f\" % (avg_epistemic))\n",
        "print(\"Aleatoric Uncertainty: %f\" % (avg_aleatoric))\n"
      ],
      "execution_count": 94,
      "outputs": [
        {
          "output_type": "stream",
          "text": [
            "Prediction when network is forced to predict:\n"
          ],
          "name": "stdout"
        },
        {
          "output_type": "stream",
          "text": [
            "/usr/local/lib/python3.6/dist-packages/pyro/primitives.py:371: FutureWarning: The `random_module` primitive is deprecated, and will be removed in a future release. Use `pyro.nn.Module` to create Bayesian modules from `torch.nn.Module` instances.\n",
            "  \"modules from `torch.nn.Module` instances.\", FutureWarning)\n"
          ],
          "name": "stderr"
        },
        {
          "output_type": "stream",
          "text": [
            "Prediction when network is forced to predict:\n",
            "Prediction when network is forced to predict:\n",
            "Prediction when network is forced to predict:\n",
            "Prediction when network is forced to predict:\n",
            "Avg. accuracy: 89 \n",
            " Correct predictions: 896679, out of a total of  10000 images in the test set\n",
            "Epistemic Uncertainty: 0.001143\n",
            "Aleatoric Uncertainty: 0.003845\n"
          ],
          "name": "stdout"
        }
      ]
    },
    {
      "cell_type": "markdown",
      "metadata": {
        "id": "n5Xw4KfNxR2M",
        "colab_type": "text"
      },
      "source": [
        "When forcing the network to classify, it has an average accuracy of approximately 89%, as it gets about 8,850 predictions right (out of 10,000). Across 5 runs.\n",
        "\n",
        "Epistemic Uncertainty: 0.003118\n",
        "Aleatoric Uncertainty: 0.006799"
      ]
    },
    {
      "cell_type": "markdown",
      "metadata": {
        "id": "CWrHi69xo9Jt",
        "colab_type": "text"
      },
      "source": [
        "The predict() function uses the learned guide() function (and not the model() function) to do predictions. \n",
        "\n",
        "Note that when making predictions, epistemic and aleatoric uncertainties are averaged over all the sampled models, and returned as single scalars along with average accuracy.\n",
        "\n",
        "This is because for model(), all we know are the priors for weights and not the posterior. \n",
        "\n",
        "For guide(), i.e. the variational posterior, it approximates the true posterior better and better the more training iterations there are, so it can be used as a surrogate for making predictions instead of the true posterior."
      ]
    },
    {
      "cell_type": "code",
      "metadata": {
        "id": "Wj_ujiH8oy3Q",
        "colab_type": "code",
        "colab": {}
      },
      "source": [
        "#10 classes\n",
        "classes = ('0', '1', '2', '3',\n",
        "           '4', '5', '6', '7', '8', '9')"
      ],
      "execution_count": 0,
      "outputs": []
    },
    {
      "cell_type": "code",
      "metadata": {
        "id": "6mX6GFKwo3O5",
        "colab_type": "code",
        "colab": {}
      },
      "source": [
        "def imshow(img):\n",
        "    img = img / 2 + 0.5     # unnormalize\n",
        "    npimg = img.numpy()\n",
        "    #plt.imshow(npimg,  cmap='gray')\n",
        "    #fig.show(figsize=(1,1))\n",
        "    \n",
        "    fig, ax = plt.subplots(figsize=(1, 1))\n",
        "    ax.imshow(npimg,  cmap='gray', interpolation='nearest')\n",
        "    plt.show()"
      ],
      "execution_count": 0,
      "outputs": []
    },
    {
      "cell_type": "code",
      "metadata": {
        "id": "aruycV4jpXqf",
        "colab_type": "code",
        "colab": {}
      },
      "source": [
        "num_samples = 10\n",
        "threshold = 0.3\n",
        "def give_uncertainties(x):\n",
        "    sampled_models = [guide(None, None) for _ in range(num_samples)]\n",
        "    yhats = [F.log_softmax(model(x.view(-1,28*28)).data, 1).detach().numpy() for model in sampled_models]\n",
        "\n",
        "    epistemic_uncertainties = []\n",
        "    aleatoric_uncertainties = []\n",
        "    for mod in sampled_models:\n",
        "      output = mod(x)\n",
        "      #print(output)\n",
        "      #for each model, use the outputs to calculate uncertainties\n",
        "      epistemic , aleatoric = calc_uncertainity_softmax(output)\n",
        "      epistemic_uncertainties.append(epistemic)\n",
        "      aleatoric_uncertainties.append(aleatoric)\n",
        "    avg_epistemic = np.mean(epistemic_uncertainties)\n",
        "    avg_aleatoric = np.mean(aleatoric_uncertainties)\n",
        "    #print(avg_epistemic, avg_aleatoric)\n",
        "\n",
        "    return np.asarray(yhats), avg_epistemic, avg_aleatoric\n",
        "    #mean = torch.mean(torch.stack(yhats), 0)\n",
        "    #return np.argmax(mean, axis=1), avg_epistemic, avg_aleatoric\n",
        "\n"
      ],
      "execution_count": 0,
      "outputs": []
    },
    {
      "cell_type": "markdown",
      "metadata": {
        "id": "sIlGzG_T0mXU",
        "colab_type": "text"
      },
      "source": [
        "Now the goal is to somehow get the network to think twice about making predictions. That is, if an image is passed in during test time which looks quite unlike anything before it (in statistical terms, this means that the test distribution differs from the training distribution since a sample was just drawn from it which probably finds no analogue in the training distribution). \n",
        "\n",
        "The core of uncertainty is that the test set and training set distributions *differ*- so we can leverage this uncertainty to get the network to **not** predict on those test examples that are too different.\n",
        "\n",
        "To do that, at test time when an image is passed in: \n",
        "\n",
        "- draw *num_samples* samples of weights (i.e. define *num_samples* different networks) and thus obtain *num_samples* outputs\n",
        "- convert those outputs (which are logsoftmaxed) into probabilities by exponentiating them\n",
        "- thus for each test image, and for *each* digit, there are *num_samples* probabilities\n",
        "-  Find the median probability value of this list of probabilities\n",
        "- If the median > threshold, the network will go ahead with the prediction.\n",
        "\n",
        "# therefore...\n",
        "\n",
        "Whether or not the network will make predictions will be a function of two things: *num_samples* and *threshold*. The first controls how many times weights are sampled from the (approximate) posterior at test time- effectively defining different networks, and acting as model averaging. The second is how confident we want the network to be: the higher this value, the more confident the network will have to feel before making predictions."
      ]
    },
    {
      "cell_type": "code",
      "metadata": {
        "id": "u0APaNhlxjWZ",
        "colab_type": "code",
        "colab": {}
      },
      "source": [
        "def test_batch(images, labels, plot=True):\n",
        "    y, epistemic, aleatoric = give_uncertainties(images)\n",
        "    predicted_for_images = 0\n",
        "    correct_predictions=0\n",
        "\n",
        "    for i in range(len(labels)):\n",
        "    \n",
        "        if(plot):\n",
        "            print(\"Real: \",labels[i].item())\n",
        "            fig, axs = plt.subplots(1, 10, sharey=True,figsize=(20,2))\n",
        "    \n",
        "        all_digits_prob = []\n",
        "    \n",
        "        highted_something = False\n",
        "    \n",
        "        for j in range(len(classes)):\n",
        "        \n",
        "            highlight=False\n",
        "        \n",
        "            histo = []\n",
        "            histo_exp = []\n",
        "        \n",
        "            for z in range(y.shape[0]):\n",
        "                histo.append(y[z][i][j])\n",
        "                histo_exp.append(np.exp(y[z][i][j]))\n",
        "            \n",
        "            prob = np.percentile(histo_exp, 50) #sampling median probability\n",
        "        \n",
        "            if(prob>threshold): #select if network thinks this sample is at least threshold% probability of this being a label\n",
        "                highlight = True #possibly an answer\n",
        "        \n",
        "            all_digits_prob.append(prob)\n",
        "            \n",
        "            if(plot):\n",
        "            \n",
        "                N, bins, patches = axs[j].hist(histo, bins=8, color = \"lightgray\", lw=0,  weights=np.ones(len(histo)) / len(histo), density=False)\n",
        "                axs[j].set_title(str(j)+\" (\"+str(round(prob,2))+\")\") \n",
        "        \n",
        "            if(highlight):\n",
        "            \n",
        "                highted_something = True\n",
        "                \n",
        "                if(plot):\n",
        "\n",
        "                    # We'll color code by height, but you could use any scalar\n",
        "                    fracs = N / N.max()\n",
        "\n",
        "                    # we need to normalize the data to 0..1 for the full range of the colormap\n",
        "                    norm = colors.Normalize(fracs.min(), fracs.max())\n",
        "\n",
        "                    # Now, we'll loop through our objects and set the color of each accordingly\n",
        "                    for thisfrac, thispatch in zip(fracs, patches):\n",
        "                        color = plt.cm.viridis(norm(thisfrac))\n",
        "                        thispatch.set_facecolor(color)\n",
        "\n",
        "    \n",
        "        if(plot):\n",
        "            plt.show()\n",
        "    \n",
        "        predicted = np.argmax(all_digits_prob)\n",
        "    \n",
        "        if(highted_something):\n",
        "            predicted_for_images+=1\n",
        "            if(labels[i].item()==predicted):\n",
        "                if(plot):\n",
        "                    print(\"Correct\")\n",
        "                correct_predictions +=1.0\n",
        "            else:\n",
        "                if(plot):\n",
        "                    print(\"Incorrect :()\")\n",
        "        else:\n",
        "            if(plot):\n",
        "                print(\"Undecided.\")\n",
        "        \n",
        "        if(plot):\n",
        "            imshow(images[i].squeeze())\n",
        "        \n",
        "    \n",
        "    if(plot):\n",
        "        print(\"Summary\")\n",
        "        print(\"Total images: \",len(labels))\n",
        "        print(\"Predicted for: \",predicted_for_images)\n",
        "        print(\"Accuracy when predicted: \",correct_predictions/predicted_for_images)\n",
        "        \n",
        "        \n",
        "    return len(labels), correct_predictions, predicted_for_images, epistemic, aleatoric"
      ],
      "execution_count": 0,
      "outputs": []
    },
    {
      "cell_type": "code",
      "metadata": {
        "id": "zcuQiWd3xku-",
        "colab_type": "code",
        "outputId": "3baa247c-5b96-48eb-fe86-19687e21e456",
        "colab": {
          "base_uri": "https://localhost:8080/",
          "height": 528
        }
      },
      "source": [
        "# Prediction when network can decide not to predict\n",
        "num_runs = 5\n",
        "skipped_runs = []\n",
        "accuracy_runs = []\n",
        "epistemic_runs = []\n",
        "aleatoric_runs = []\n",
        "total_predicted_runs = []\n",
        "total_correct_runs = []\n",
        "\n",
        "print('Prediction when network can refuse:')\n",
        "for i in(range(num_runs)):\n",
        "  print('Run %d:' % (i+1))\n",
        "  correct = 0\n",
        "  total = 0\n",
        "  total_predicted_for = 0\n",
        "  for j, data in enumerate(test_loader):\n",
        "      images, labels = data\n",
        "      total_minibatch, correct_minibatch, predictions_minibatch, epistemic, aleatoric  = test_batch(images.view(-1,28*28), labels, plot=False)\n",
        "      total += total_minibatch\n",
        "      correct += correct_minibatch\n",
        "      total_predicted_for += predictions_minibatch\n",
        "  skipped_runs.append(total-total_predicted_for)\n",
        "  accuracy_runs.append(100 * correct / total_predicted_for)\n",
        "  epistemic_runs.append(epistemic)\n",
        "  aleatoric_runs.append(aleatoric)\n",
        "  total_predicted_runs.append(total_predicted_for)\n",
        "  total_correct_runs.append(correct)\n",
        "  print(\"Epistemic:\", epistemic)\n",
        "  print(\"Aleatoric:\", aleatoric)\n",
        "  print(\"Skipped:\", total-total_predicted_for)\n",
        "avg_accuracy = np.mean(accuracy_runs)\n",
        "avg_epistemic = np.mean(epistemic_runs)\n",
        "avg_aleatoric = np.mean(aleatoric_runs)\n",
        "avg_skipped = int(np.mean(skipped_runs))\n",
        "avg_predictions = int(np.mean(total_predicted_runs))\n",
        "avg_correct = int(np.mean(total_correct_runs))\n",
        "\n",
        "\n",
        "print(\"On average, skipped: \", avg_skipped)\n",
        "print(\"Average accuracy when allowed to refuse: %d %%\" % (avg_accuracy), \"Correct: %d, out of: %d\" % (avg_correct , avg_predictions))\n",
        "print(\"Epistemic Uncertainty: %f\" % (avg_epistemic))\n",
        "print(\"Aleatoric Uncertainty: %f\" % (avg_aleatoric))"
      ],
      "execution_count": 102,
      "outputs": [
        {
          "output_type": "stream",
          "text": [
            "Prediction when network can refuse:\n",
            "Run 1:\n"
          ],
          "name": "stdout"
        },
        {
          "output_type": "stream",
          "text": [
            "/usr/local/lib/python3.6/dist-packages/pyro/primitives.py:371: FutureWarning: The `random_module` primitive is deprecated, and will be removed in a future release. Use `pyro.nn.Module` to create Bayesian modules from `torch.nn.Module` instances.\n",
            "  \"modules from `torch.nn.Module` instances.\", FutureWarning)\n"
          ],
          "name": "stderr"
        },
        {
          "output_type": "stream",
          "text": [
            "Epistemic: 0.00040919274314745737\n",
            "Aleatoric: 0.0022898535\n",
            "Skipped: 981\n",
            "Run 2:\n",
            "Epistemic: 0.001641291641310616\n",
            "Aleatoric: 0.003585155\n",
            "Skipped: 982\n",
            "Run 3:\n",
            "Epistemic: 0.0014991102716173544\n",
            "Aleatoric: 0.0034104981\n",
            "Skipped: 970\n",
            "Run 4:\n",
            "Epistemic: 0.001193658829205546\n",
            "Aleatoric: 0.004966689\n",
            "Skipped: 977\n",
            "Run 5:\n",
            "Epistemic: 0.005716558218814072\n",
            "Aleatoric: 0.012549227\n",
            "Skipped: 963\n",
            "On average, skipped:  974\n",
            "Average accuracy when allowed to refuse: 92 % Correct: 8359, out of: 9025\n",
            "Epistemic Uncertainty: 0.002092\n",
            "Aleatoric Uncertainty: 0.005360\n"
          ],
          "name": "stdout"
        }
      ]
    },
    {
      "cell_type": "markdown",
      "metadata": {
        "id": "hmBYg1hM28kv",
        "colab_type": "text"
      },
      "source": [
        "Now the network achieves an average of 95% accuracy across 5 runs.\n",
        "\n",
        "Note that this is calculated only on images that it is confident about. In other words, it's a form of conditional accuracy, where the test set has been reduced to exclude questionable images."
      ]
    },
    {
      "cell_type": "code",
      "metadata": {
        "id": "3SDS7qT08bZX",
        "colab_type": "code",
        "colab": {}
      },
      "source": [
        "# preparing for evaluation\n",
        "\n",
        "dataiter = iter(test_loader)\n",
        "images, labels = dataiter.next()"
      ],
      "execution_count": 0,
      "outputs": []
    },
    {
      "cell_type": "code",
      "metadata": {
        "id": "GUMuTRA7_bbX",
        "colab_type": "code",
        "outputId": "4852f108-2e17-4dd8-b2b7-929d5998f9ee",
        "colab": {
          "base_uri": "https://localhost:8080/",
          "height": 1000
        }
      },
      "source": [
        "test_batch(images[:10], labels[:10])"
      ],
      "execution_count": 0,
      "outputs": [
        {
          "output_type": "stream",
          "text": [
            "/usr/local/lib/python3.6/dist-packages/pyro/primitives.py:371: FutureWarning: The `random_module` primitive is deprecated, and will be removed in a future release. Use `pyro.nn.Module` to create Bayesian modules from `torch.nn.Module` instances.\n",
            "  \"modules from `torch.nn.Module` instances.\", FutureWarning)\n"
          ],
          "name": "stderr"
        },
        {
          "output_type": "stream",
          "text": [
            "Real:  7\n"
          ],
          "name": "stdout"
        },
        {
          "output_type": "display_data",
          "data": {
            "image/png": "[encoded data removed]",
            "text/plain": [
              "<Figure size 1440x144 with 10 Axes>"
            ]
          },
          "metadata": {
            "tags": []
          }
        },
        {
          "output_type": "stream",
          "text": [
            "Correct\n"
          ],
          "name": "stdout"
        },
        {
          "output_type": "display_data",
          "data": {
            "image/png": "[encoded data removed]",
            "text/plain": [
              "<Figure size 72x72 with 1 Axes>"
            ]
          },
          "metadata": {
            "tags": []
          }
        },
        {
          "output_type": "stream",
          "text": [
            "Real:  8\n"
          ],
          "name": "stdout"
        },
        {
          "output_type": "display_data",
          "data": {
            "image/png": "[encoded data removed]",
            "text/plain": [
              "<Figure size 1440x144 with 10 Axes>"
            ]
          },
          "metadata": {
            "tags": []
          }
        },
        {
          "output_type": "stream",
          "text": [
            "Correct\n"
          ],
          "name": "stdout"
        },
        {
          "output_type": "display_data",
          "data": {
            "image/png": "[encoded data removed]",
            "text/plain": [
              "<Figure size 72x72 with 1 Axes>"
            ]
          },
          "metadata": {
            "tags": []
          }
        },
        {
          "output_type": "stream",
          "text": [
            "Real:  7\n"
          ],
          "name": "stdout"
        },
        {
          "output_type": "display_data",
          "data": {
            "image/png": "[encoded data removed]",
            "text/plain": [
              "<Figure size 1440x144 with 10 Axes>"
            ]
          },
          "metadata": {
            "tags": []
          }
        },
        {
          "output_type": "stream",
          "text": [
            "Correct\n"
          ],
          "name": "stdout"
        },
        {
          "output_type": "display_data",
          "data": {
            "image/png": "[encoded data removed]",
            "text/plain": [
              "<Figure size 72x72 with 1 Axes>"
            ]
          },
          "metadata": {
            "tags": []
          }
        },
        {
          "output_type": "stream",
          "text": [
            "Real:  7\n"
          ],
          "name": "stdout"
        },
        {
          "output_type": "display_data",
          "data": {
            "image/png": "[encoded data removed]",
            "text/plain": [
              "<Figure size 1440x144 with 10 Axes>"
            ]
          },
          "metadata": {
            "tags": []
          }
        },
        {
          "output_type": "stream",
          "text": [
            "Correct\n"
          ],
          "name": "stdout"
        },
        {
          "output_type": "display_data",
          "data": {
            "image/png": "[encoded data removed]",
            "text/plain": [
              "<Figure size 72x72 with 1 Axes>"
            ]
          },
          "metadata": {
            "tags": []
          }
        },
        {
          "output_type": "stream",
          "text": [
            "Real:  7\n"
          ],
          "name": "stdout"
        },
        {
          "output_type": "display_data",
          "data": {
            "image/png": "[encoded data removed]",
            "text/plain": [
              "<Figure size 1440x144 with 10 Axes>"
            ]
          },
          "metadata": {
            "tags": []
          }
        },
        {
          "output_type": "stream",
          "text": [
            "Correct\n"
          ],
          "name": "stdout"
        },
        {
          "output_type": "display_data",
          "data": {
            "image/png": "[encoded data removed]",
            "text/plain": [
              "<Figure size 72x72 with 1 Axes>"
            ]
          },
          "metadata": {
            "tags": []
          }
        },
        {
          "output_type": "stream",
          "text": [
            "Real:  6\n"
          ],
          "name": "stdout"
        },
        {
          "output_type": "display_data",
          "data": {
            "image/png": "[encoded data removed]",
            "text/plain": [
              "<Figure size 1440x144 with 10 Axes>"
            ]
          },
          "metadata": {
            "tags": []
          }
        },
        {
          "output_type": "stream",
          "text": [
            "Undecided.\n"
          ],
          "name": "stdout"
        },
        {
          "output_type": "display_data",
          "data": {
            "image/png": "[encoded data removed]",
            "text/plain": [
              "<Figure size 72x72 with 1 Axes>"
            ]
          },
          "metadata": {
            "tags": []
          }
        },
        {
          "output_type": "stream",
          "text": [
            "Real:  5\n"
          ],
          "name": "stdout"
        },
        {
          "output_type": "display_data",
          "data": {
            "image/png": "[encoded data removed]",
            "text/plain": [
              "<Figure size 1440x144 with 10 Axes>"
            ]
          },
          "metadata": {
            "tags": []
          }
        },
        {
          "output_type": "stream",
          "text": [
            "Correct\n"
          ],
          "name": "stdout"
        },
        {
          "output_type": "display_data",
          "data": {
            "image/png": "[encoded data removed]",
            "text/plain": [
              "<Figure size 72x72 with 1 Axes>"
            ]
          },
          "metadata": {
            "tags": []
          }
        },
        {
          "output_type": "stream",
          "text": [
            "Real:  5\n"
          ],
          "name": "stdout"
        },
        {
          "output_type": "display_data",
          "data": {
            "image/png": "[encoded data removed]",
            "text/plain": [
              "<Figure size 1440x144 with 10 Axes>"
            ]
          },
          "metadata": {
            "tags": []
          }
        },
        {
          "output_type": "stream",
          "text": [
            "Correct\n"
          ],
          "name": "stdout"
        },
        {
          "output_type": "display_data",
          "data": {
            "image/png": "[encoded data removed]",
            "text/plain": [
              "<Figure size 72x72 with 1 Axes>"
            ]
          },
          "metadata": {
            "tags": []
          }
        },
        {
          "output_type": "stream",
          "text": [
            "Real:  1\n"
          ],
          "name": "stdout"
        },
        {
          "output_type": "display_data",
          "data": {
            "image/png": "[encoded data removed]",
            "text/plain": [
              "<Figure size 1440x144 with 10 Axes>"
            ]
          },
          "metadata": {
            "tags": []
          }
        },
        {
          "output_type": "stream",
          "text": [
            "Correct\n"
          ],
          "name": "stdout"
        },
        {
          "output_type": "display_data",
          "data": {
            "image/png": "[encoded data removed]",
            "text/plain": [
              "<Figure size 72x72 with 1 Axes>"
            ]
          },
          "metadata": {
            "tags": []
          }
        },
        {
          "output_type": "stream",
          "text": [
            "Real:  3\n"
          ],
          "name": "stdout"
        },
        {
          "output_type": "display_data",
          "data": {
            "image/png": "[encoded data removed]",
            "text/plain": [
              "<Figure size 1440x144 with 10 Axes>"
            ]
          },
          "metadata": {
            "tags": []
          }
        },
        {
          "output_type": "stream",
          "text": [
            "Undecided.\n"
          ],
          "name": "stdout"
        },
        {
          "output_type": "display_data",
          "data": {
            "image/png": "[encoded data removed]",
            "text/plain": [
              "<Figure size 72x72 with 1 Axes>"
            ]
          },
          "metadata": {
            "tags": []
          }
        },
        {
          "output_type": "stream",
          "text": [
            "Summary\n",
            "Total images:  10\n",
            "Predicted for:  8\n",
            "Accuracy when predicted:  1.0\n"
          ],
          "name": "stdout"
        },
        {
          "output_type": "execute_result",
          "data": {
            "text/plain": [
              "(10, 8.0, 8)"
            ]
          },
          "metadata": {
            "tags": []
          },
          "execution_count": 62
        }
      ]
    },
    {
      "cell_type": "markdown",
      "metadata": {
        "id": "KoBbpChPAbGw",
        "colab_type": "text"
      },
      "source": [
        "Make predictions on random images."
      ]
    },
    {
      "cell_type": "code",
      "metadata": {
        "id": "3hoCabIKAUNQ",
        "colab_type": "code",
        "colab": {}
      },
      "source": [
        "# generate random data\n",
        "\n",
        "images_random = torch.rand(2,28,28)\n",
        "labels_random = torch.randint(0,10, (2,))"
      ],
      "execution_count": 0,
      "outputs": []
    },
    {
      "cell_type": "code",
      "metadata": {
        "id": "dYyGB6llAZ5h",
        "colab_type": "code",
        "outputId": "c1f2afb0-ffaa-4ad2-d103-02faae57d685",
        "colab": {
          "base_uri": "https://localhost:8080/",
          "height": 707
        }
      },
      "source": [
        "\n",
        "test_batch(images_random, labels_random)"
      ],
      "execution_count": 0,
      "outputs": [
        {
          "output_type": "stream",
          "text": [
            "/usr/local/lib/python3.6/dist-packages/pyro/primitives.py:371: FutureWarning: The `random_module` primitive is deprecated, and will be removed in a future release. Use `pyro.nn.Module` to create Bayesian modules from `torch.nn.Module` instances.\n",
            "  \"modules from `torch.nn.Module` instances.\", FutureWarning)\n"
          ],
          "name": "stderr"
        },
        {
          "output_type": "stream",
          "text": [
            "Real:  5\n"
          ],
          "name": "stdout"
        },
        {
          "output_type": "display_data",
          "data": {
            "image/png": "[encoded data removed]",
            "text/plain": [
              "<Figure size 1440x144 with 10 Axes>"
            ]
          },
          "metadata": {
            "tags": []
          }
        },
        {
          "output_type": "stream",
          "text": [
            "Undecided.\n"
          ],
          "name": "stdout"
        },
        {
          "output_type": "display_data",
          "data": {
            "image/png": "[encoded data removed]",
            "text/plain": [
              "<Figure size 72x72 with 1 Axes>"
            ]
          },
          "metadata": {
            "tags": []
          }
        },
        {
          "output_type": "stream",
          "text": [
            "Summary\n",
            "Total images:  1\n",
            "Predicted for:  0\n"
          ],
          "name": "stdout"
        },
        {
          "output_type": "error",
          "ename": "ZeroDivisionError",
          "evalue": "ignored",
          "traceback": [
            "\u001b[0;31m---------------------------------------------------------------------------\u001b[0m",
            "\u001b[0;31mZeroDivisionError\u001b[0m                         Traceback (most recent call last)",
            "\u001b[0;32m<ipython-input-66-40f9daceb3e3>\u001b[0m in \u001b[0;36m<module>\u001b[0;34m()\u001b[0m\n\u001b[1;32m      1\u001b[0m \u001b[0;34m\u001b[0m\u001b[0m\n\u001b[0;32m----> 2\u001b[0;31m \u001b[0mtest_batch\u001b[0m\u001b[0;34m(\u001b[0m\u001b[0mimages_random\u001b[0m\u001b[0;34m,\u001b[0m \u001b[0mlabels_random\u001b[0m\u001b[0;34m)\u001b[0m\u001b[0;34m\u001b[0m\u001b[0;34m\u001b[0m\u001b[0m\n\u001b[0m",
            "\u001b[0;32m<ipython-input-56-56bef8916221>\u001b[0m in \u001b[0;36mtest_batch\u001b[0;34m(images, labels, plot)\u001b[0m\n\u001b[1;32m     81\u001b[0m         \u001b[0mprint\u001b[0m\u001b[0;34m(\u001b[0m\u001b[0;34m\"Total images: \"\u001b[0m\u001b[0;34m,\u001b[0m\u001b[0mlen\u001b[0m\u001b[0;34m(\u001b[0m\u001b[0mlabels\u001b[0m\u001b[0;34m)\u001b[0m\u001b[0;34m)\u001b[0m\u001b[0;34m\u001b[0m\u001b[0;34m\u001b[0m\u001b[0m\n\u001b[1;32m     82\u001b[0m         \u001b[0mprint\u001b[0m\u001b[0;34m(\u001b[0m\u001b[0;34m\"Predicted for: \"\u001b[0m\u001b[0;34m,\u001b[0m\u001b[0mpredicted_for_images\u001b[0m\u001b[0;34m)\u001b[0m\u001b[0;34m\u001b[0m\u001b[0;34m\u001b[0m\u001b[0m\n\u001b[0;32m---> 83\u001b[0;31m         \u001b[0mprint\u001b[0m\u001b[0;34m(\u001b[0m\u001b[0;34m\"Accuracy when predicted: \"\u001b[0m\u001b[0;34m,\u001b[0m\u001b[0mcorrect_predictions\u001b[0m\u001b[0;34m/\u001b[0m\u001b[0mpredicted_for_images\u001b[0m\u001b[0;34m)\u001b[0m\u001b[0;34m\u001b[0m\u001b[0;34m\u001b[0m\u001b[0m\n\u001b[0m\u001b[1;32m     84\u001b[0m \u001b[0;34m\u001b[0m\u001b[0m\n\u001b[1;32m     85\u001b[0m     \u001b[0;32mreturn\u001b[0m \u001b[0mlen\u001b[0m\u001b[0;34m(\u001b[0m\u001b[0mlabels\u001b[0m\u001b[0;34m)\u001b[0m\u001b[0;34m,\u001b[0m \u001b[0mcorrect_predictions\u001b[0m\u001b[0;34m,\u001b[0m \u001b[0mpredicted_for_images\u001b[0m\u001b[0;34m\u001b[0m\u001b[0;34m\u001b[0m\u001b[0m\n",
            "\u001b[0;31mZeroDivisionError\u001b[0m: division by zero"
          ]
        }
      ]
    }
  ]
}
